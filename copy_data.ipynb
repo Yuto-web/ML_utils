{
 "cells": [
  {
   "cell_type": "code",
   "execution_count": 6,
   "metadata": {},
   "outputs": [],
   "source": [
    "import os\n",
    "from glob import glob\n",
    "import cv2"
   ]
  },
  {
   "cell_type": "code",
   "execution_count": 7,
   "metadata": {},
   "outputs": [],
   "source": [
    "tgt_root_dir = 'C:\\\\Users\\\\yishi\\\\Desktop\\\\Jmees\\\\src\\\\input\\\\test_part2'\n",
    "save_root_dir = 'C:\\\\Users\\\\yishi\\\\Desktop\\\\Jmees\\\\src\\\\input\\\\test_annote_1-0_resized'\n",
    "grades = ['grade_1', 'grade_2', 'grade_3']"
   ]
  },
  {
   "cell_type": "code",
   "execution_count": 8,
   "metadata": {},
   "outputs": [
    {
     "name": "stdout",
     "output_type": "stream",
     "text": [
      "312\n"
     ]
    }
   ],
   "source": [
    "img_paths = glob(os.path.join(tgt_root_dir, '*\\\\*.jpg'))\n",
    "print(len(img_paths))"
   ]
  },
  {
   "cell_type": "code",
   "execution_count": 9,
   "metadata": {},
   "outputs": [],
   "source": [
    "for img_path in img_paths:\n",
    "    # make save path\n",
    "    img_name = os.path.basename(img_path)\n",
    "    grade = None\n",
    "    for g in grades:\n",
    "        if g in img_path:\n",
    "            grade = g\n",
    "    if not grade:\n",
    "        print(img_path)\n",
    "        raise ValueError('nothing grade')\n",
    "    save_path = os.path.join(save_root_dir, grade, img_name)\n",
    "    \n",
    "    # check save dir\n",
    "    save_dir = os.path.dirname(save_path)\n",
    "    if not os.path.exists(save_dir):\n",
    "        os.makedirs(save_dir)\n",
    "        \n",
    "    img = cv2.imread(img_path)\n",
    "    w = 256\n",
    "    h = 384\n",
    "    resized_img = cv2.resize(img, (w, h))\n",
    "    cv2.imwrite(save_path, resized_img)\n",
    "    "
   ]
  },
  {
   "cell_type": "code",
   "execution_count": null,
   "metadata": {},
   "outputs": [],
   "source": []
  }
 ],
 "metadata": {
  "kernelspec": {
   "display_name": "Python 3",
   "language": "python",
   "name": "python3"
  },
  "language_info": {
   "codemirror_mode": {
    "name": "ipython",
    "version": 3
   },
   "file_extension": ".py",
   "mimetype": "text/x-python",
   "name": "python",
   "nbconvert_exporter": "python",
   "pygments_lexer": "ipython3",
   "version": "3.7.7"
  }
 },
 "nbformat": 4,
 "nbformat_minor": 4
}
